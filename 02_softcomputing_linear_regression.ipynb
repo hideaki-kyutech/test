{
  "nbformat": 4,
  "nbformat_minor": 0,
  "metadata": {
    "colab": {
      "provenance": [],
      "authorship_tag": "ABX9TyPB1RF3tgiwk9udcY7w+vM+",
      "include_colab_link": true
    },
    "kernelspec": {
      "name": "python3",
      "display_name": "Python 3"
    },
    "language_info": {
      "name": "python"
    }
  },
  "cells": [
    {
      "cell_type": "markdown",
      "metadata": {
        "id": "view-in-github",
        "colab_type": "text"
      },
      "source": [
        "<a href=\"https://colab.research.google.com/github/hideaki-kyutech/test/blob/master/02_softcomputing_linear_regression.ipynb\" target=\"_parent\"><img src=\"https://colab.research.google.com/assets/colab-badge.svg\" alt=\"Open In Colab\"/></a>"
      ]
    },
    {
      "cell_type": "code",
      "execution_count": null,
      "metadata": {
        "id": "trci4zSXMm4K"
      },
      "outputs": [],
      "source": [
        "import torch\n",
        "import torch.nn as nn\n",
        "import numpy as np\n",
        "import matplotlib.pyplot as plt"
      ]
    },
    {
      "cell_type": "code",
      "source": [
        "# generate data\n",
        "N = 20\n",
        "\n",
        "X = np.random.random(N)*10-5 # [-5, 5) uniform random value\n",
        "Y = 0.5*X-1 + np.random.randn(N) # normal distribution (0,1) = Gaussian Noise"
      ],
      "metadata": {
        "id": "Oi97Y_miNuJo"
      },
      "execution_count": null,
      "outputs": []
    },
    {
      "cell_type": "code",
      "source": [
        "plt.scatter(X,Y);"
      ],
      "metadata": {
        "colab": {
          "base_uri": "https://localhost:8080/",
          "height": 265
        },
        "id": "iXG2m8l0O65d",
        "outputId": "58f9d5ea-e8a4-4ec5-8ac2-8388469de0f1"
      },
      "execution_count": null,
      "outputs": [
        {
          "output_type": "display_data",
          "data": {
            "text/plain": [
              "<Figure size 432x288 with 1 Axes>"
            ],
            "image/png": "[encoded data removed]"
          },
          "metadata": {
            "needs_background": "light"
          }
        }
      ]
    },
    {
      "cell_type": "code",
      "source": [
        "model = nn.Linear(1,1)"
      ],
      "metadata": {
        "id": "3tw7qWLbPTEa"
      },
      "execution_count": null,
      "outputs": []
    },
    {
      "cell_type": "code",
      "source": [
        "criterion = nn.MSELoss()\n",
        "optimizer = torch.optim.SGD(model.parameters(), lr=0.1)"
      ],
      "metadata": {
        "id": "H-QMnJmuPgQt"
      },
      "execution_count": null,
      "outputs": []
    },
    {
      "cell_type": "code",
      "source": [
        "X = X.reshape(N,1)\n",
        "Y = Y.reshape(N,1)\n",
        "\n",
        "inputs = torch.from_numpy(X.astype(np.float32))\n",
        "targets = torch.from_numpy(Y.astype(np.float32))"
      ],
      "metadata": {
        "id": "fgg2bo1cQEJA"
      },
      "execution_count": null,
      "outputs": []
    },
    {
      "cell_type": "code",
      "source": [
        "# Training\n",
        "n_epochs = 30\n",
        "losses = []\n",
        "for it in range(n_epochs):\n",
        "  optimizer.zero_grad() \n",
        "\n",
        "  # forward process\n",
        "  outputs = model(inputs)\n",
        "  loss = criterion(outputs, targets)\n",
        "\n",
        "  losses.append(loss.item())\n",
        "\n",
        "  # backward process\n",
        "  loss.backward()\n",
        "  optimizer.step()\n",
        "\n",
        "  print(f'Epoch: {it+1}/{n_epochs}, Loss: {loss.item():4f}')"
      ],
      "metadata": {
        "colab": {
          "base_uri": "https://localhost:8080/"
        },
        "id": "RYpRMnlZQ9xT",
        "outputId": "f4b99d6e-d77e-4fd8-a96f-fc01d282f9e7"
      },
      "execution_count": null,
      "outputs": [
        {
          "output_type": "stream",
          "name": "stdout",
          "text": [
            "Epoch: 1/30, Loss: 16.700150\n",
            "Epoch: 2/30, Loss: 12.401237\n",
            "Epoch: 3/30, Loss: 9.298518\n",
            "Epoch: 4/30, Loss: 7.046323\n",
            "Epoch: 5/30, Loss: 5.402820\n",
            "Epoch: 6/30, Loss: 4.197665\n",
            "Epoch: 7/30, Loss: 3.310033\n",
            "Epoch: 8/30, Loss: 2.653662\n",
            "Epoch: 9/30, Loss: 2.166574\n",
            "Epoch: 10/30, Loss: 1.803970\n",
            "Epoch: 11/30, Loss: 1.533284\n",
            "Epoch: 12/30, Loss: 1.330724\n",
            "Epoch: 13/30, Loss: 1.178820\n",
            "Epoch: 14/30, Loss: 1.064696\n",
            "Epoch: 15/30, Loss: 0.978817\n",
            "Epoch: 16/30, Loss: 0.914104\n",
            "Epoch: 17/30, Loss: 0.865282\n",
            "Epoch: 18/30, Loss: 0.828413\n",
            "Epoch: 19/30, Loss: 0.800544\n",
            "Epoch: 20/30, Loss: 0.779464\n",
            "Epoch: 21/30, Loss: 0.763508\n",
            "Epoch: 22/30, Loss: 0.751425\n",
            "Epoch: 23/30, Loss: 0.742270\n",
            "Epoch: 24/30, Loss: 0.735331\n",
            "Epoch: 25/30, Loss: 0.730069\n",
            "Epoch: 26/30, Loss: 0.726079\n",
            "Epoch: 27/30, Loss: 0.723052\n",
            "Epoch: 28/30, Loss: 0.720755\n",
            "Epoch: 29/30, Loss: 0.719012\n",
            "Epoch: 30/30, Loss: 0.717689\n"
          ]
        }
      ]
    },
    {
      "cell_type": "code",
      "source": [
        "plt.plot(losses);"
      ],
      "metadata": {
        "colab": {
          "base_uri": "https://localhost:8080/",
          "height": 265
        },
        "id": "7Dv9KPysU_jo",
        "outputId": "22ea372f-30b8-4c1b-f66a-723d7f510a1f"
      },
      "execution_count": null,
      "outputs": [
        {
          "output_type": "display_data",
          "data": {
            "text/plain": [
              "<Figure size 432x288 with 1 Axes>"
            ],
            "image/png": "[encoded data removed]"
          },
          "metadata": {
            "needs_background": "light"
          }
        }
      ]
    },
    {
      "cell_type": "code",
      "source": [
        "predicted = model(inputs).detach().numpy()\n",
        "plt.scatter(X, Y, label='Original data')\n",
        "plt.plot(X, predicted, label='Fitted line')\n",
        "plt.legend()\n",
        "plt.show()"
      ],
      "metadata": {
        "colab": {
          "base_uri": "https://localhost:8080/",
          "height": 265
        },
        "id": "MZTXErNFVf7n",
        "outputId": "2fc49b01-0dbd-45d6-8492-bab5d5d49ebc"
      },
      "execution_count": null,
      "outputs": [
        {
          "output_type": "display_data",
          "data": {
            "text/plain": [
              "<Figure size 432x288 with 1 Axes>"
            ],
            "image/png": "[encoded data removed]"
          },
          "metadata": {
            "needs_background": "light"
          }
        }
      ]
    },
    {
      "cell_type": "code",
      "source": [
        "w = model.weight.data.numpy()\n",
        "b = model.bias.data.numpy()\n",
        "print(w,b)"
      ],
      "metadata": {
        "colab": {
          "base_uri": "https://localhost:8080/"
        },
        "id": "ou7Vu8v3XC5k",
        "outputId": "ad138141-ecdf-4842-89e9-2d14a05c0204"
      },
      "execution_count": null,
      "outputs": [
        {
          "output_type": "stream",
          "name": "stdout",
          "text": [
            "[[0.4281043]] [-1.362674]\n"
          ]
        }
      ]
    }
  ]
}