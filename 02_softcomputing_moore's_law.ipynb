{
  "nbformat": 4,
  "nbformat_minor": 0,
  "metadata": {
    "colab": {
      "provenance": [],
      "mount_file_id": "1cqdSKP-GWCy4S1GOTTph4Ung1lsl_sJ1",
      "authorship_tag": "ABX9TyNaC2mK3j98ks4Np253xUKO",
      "include_colab_link": true
    },
    "kernelspec": {
      "name": "python3",
      "display_name": "Python 3"
    },
    "language_info": {
      "name": "python"
    }
  },
  "cells": [
    {
      "cell_type": "markdown",
      "metadata": {
        "id": "view-in-github",
        "colab_type": "text"
      },
      "source": [
        "<a href=\"https://colab.research.google.com/github/hideaki-kyutech/test/blob/master/02_softcomputing_moore's_law.ipynb\" target=\"_parent\"><img src=\"https://colab.research.google.com/assets/colab-badge.svg\" alt=\"Open In Colab\"/></a>"
      ]
    },
    {
      "cell_type": "markdown",
      "source": [
        "##Mooreの法則\n",
        "トランジスタ数は2年で約２倍"
      ],
      "metadata": {
        "id": "BNl-m5-maiKL"
      }
    },
    {
      "cell_type": "code",
      "execution_count": null,
      "metadata": {
        "id": "xf9WVTtpaXXB"
      },
      "outputs": [],
      "source": [
        "import torch\n",
        "import torch.nn as nn\n",
        "import pandas as pd\n",
        "import numpy as np\n",
        "import matplotlib.pyplot as plt"
      ]
    },
    {
      "cell_type": "code",
      "source": [
        "# Import PyDrive and associated libraries.\n",
        "# This only needs to be done once per notebook.\n",
        "from pydrive.auth import GoogleAuth\n",
        "from pydrive.drive import GoogleDrive\n",
        "from google.colab import auth\n",
        "from oauth2client.client import GoogleCredentials\n",
        "\n",
        "# Authenticate and create the PyDrive client.\n",
        "# This only needs to be done once per notebook.\n",
        "auth.authenticate_user()\n",
        "gauth = GoogleAuth()\n",
        "gauth.credentials = GoogleCredentials.get_application_default()\n",
        "drive = GoogleDrive(gauth)"
      ],
      "metadata": {
        "id": "KV_JsHXWb2zq"
      },
      "execution_count": null,
      "outputs": []
    },
    {
      "cell_type": "code",
      "source": [
        "data = pd.read_csv('/content/drive/MyDrive/Colab Notebooks/2022/softcomputing/02/moore.csv', header=None).values"
      ],
      "metadata": {
        "id": "4uvLUydwbb3B"
      },
      "execution_count": null,
      "outputs": []
    },
    {
      "cell_type": "code",
      "source": [
        "data"
      ],
      "metadata": {
        "colab": {
          "base_uri": "https://localhost:8080/"
        },
        "id": "GgGyg_8SdU52",
        "outputId": "e23d3fc7-e52e-4a77-82e7-f1f4140705cd"
      },
      "execution_count": null,
      "outputs": [
        {
          "output_type": "execute_result",
          "data": {
            "text/plain": [
              "array([[       1971,        2300],\n",
              "       [       1972,        3500],\n",
              "       [       1973,        2500],\n",
              "       [       1973,        2500],\n",
              "       [       1974,        4100],\n",
              "       [       1974,        4500],\n",
              "       [       1974,        8000],\n",
              "       [       1975,        3510],\n",
              "       [       1976,        5000],\n",
              "       [       1976,        8500],\n",
              "       [       1976,        6500],\n",
              "       [       1978,        9000],\n",
              "       [       1978,       29000],\n",
              "       [       1979,       17500],\n",
              "       [       1979,       29000],\n",
              "       [       1979,       68000],\n",
              "       [       1981,       11500],\n",
              "       [       1982,       55000],\n",
              "       [       1982,      134000],\n",
              "       [       1983,       22000],\n",
              "       [       1984,       63000],\n",
              "       [       1984,      190000],\n",
              "       [       1985,      275000],\n",
              "       [       1985,       25000],\n",
              "       [       1985,       16000],\n",
              "       [       1986,      110000],\n",
              "       [       1986,      375000],\n",
              "       [       1986,       30000],\n",
              "       [       1987,      385000],\n",
              "       [       1987,      730000],\n",
              "       [       1987,      273000],\n",
              "       [       1987,      553000],\n",
              "       [       1988,      180000],\n",
              "       [       1988,      250000],\n",
              "       [       1989,      600000],\n",
              "       [       1989,     1000000],\n",
              "       [       1989,     1180235],\n",
              "       [       1989,      310000],\n",
              "       [       1990,     1200000],\n",
              "       [       1991,     1350000],\n",
              "       [       1991,       35000],\n",
              "       [       1992,      600000],\n",
              "       [       1992,      900000],\n",
              "       [       1993,     2800000],\n",
              "       [       1993,     3100000],\n",
              "       [       1994,      578977],\n",
              "       [       1994,     2500000],\n",
              "       [       1995,     2500000],\n",
              "       [       1999,      111000],\n",
              "       [       1995,     5500000],\n",
              "       [       1996,     4300000],\n",
              "       [       1997,    10000000],\n",
              "       [       1997,     7500000],\n",
              "       [       1997,     8800000],\n",
              "       [       1998,     7500000],\n",
              "       [       1999,     9500000],\n",
              "       [       1999,    13500000],\n",
              "       [       2000,    21000000],\n",
              "       [       2000,    21000000],\n",
              "       [       1999,    27400000],\n",
              "       [       1999,    21300000],\n",
              "       [       1999,    22000000],\n",
              "       [       2000,    42000000],\n",
              "       [       2001,   191000000],\n",
              "       [       2001,    45000000],\n",
              "       [       2002,    55000000],\n",
              "       [       2004,   112000000],\n",
              "       [       2004,   400000000],\n",
              "       [       2005,   169000000],\n",
              "       [       2006,   184000000],\n",
              "       [       2005,   228000000],\n",
              "       [       2006,   362000000],\n",
              "       [       2007,   540000000],\n",
              "       [       2008,    47000000],\n",
              "       [       2003,    54300000],\n",
              "       [       2003,   105900000],\n",
              "       [       2002,   220000000],\n",
              "       [       2005,   165000000],\n",
              "       [       2005,   250000000],\n",
              "       [       2006,   291000000],\n",
              "       [       2007,   169000000],\n",
              "       [       2003,   410000000],\n",
              "       [       2008,   600000000],\n",
              "       [       2009,   760000000],\n",
              "       [       2011,  1870000000],\n",
              "       [       2012,   432000000],\n",
              "       [       2007,   463000000],\n",
              "       [       2007,    26000000],\n",
              "       [       2008,   230000000],\n",
              "       [       2004,   592000000],\n",
              "       [       2007,   411000000],\n",
              "       [       2008,   731000000],\n",
              "       [       2008,   758000000],\n",
              "       [       2007,   789000000],\n",
              "       [       2009,   904000000],\n",
              "       [       2010,  1000000000],\n",
              "       [       2012,  2990000000],\n",
              "       [       2013,  1000000000],\n",
              "       [       2011,  1160000000],\n",
              "       [       2010,  1170000000],\n",
              "       [       2010,  1200000000],\n",
              "       [       2012,  1200000000],\n",
              "       [       2012,  1303000000],\n",
              "       [       2010,  1400000000],\n",
              "       [       2012,  1400000000],\n",
              "       [       2014,  1400000000],\n",
              "       [       2006,  1700000000],\n",
              "       [       2015,  1750000000],\n",
              "       [       2013,  1860000000],\n",
              "       [       2015,  1900000000],\n",
              "       [       2008,  1900000000],\n",
              "       [       2010,  2000000000],\n",
              "       [       2014,  2000000000],\n",
              "       [       2015,  2000000000],\n",
              "       [       2015,  3000000000],\n",
              "       [       2012,  2100000000],\n",
              "       [       2011,  2270000000],\n",
              "       [       2010,  2300000000],\n",
              "       [       2014,  2600000000],\n",
              "       [       2011,  2600000000],\n",
              "       [       2012,  2750000000],\n",
              "       [       2014,  3000000000],\n",
              "       [       2016,  3000000000],\n",
              "       [       2017,  5300000000],\n",
              "       [       2017,  5300000000],\n",
              "       [       2018,  8500000000],\n",
              "       [       2012,  3100000000],\n",
              "       [       2016,  3200000000],\n",
              "       [       2016,  3300000000],\n",
              "       [       2015,  3990000000],\n",
              "       [       2013,  4200000000],\n",
              "       [       2017,  4300000000],\n",
              "       [       2014,  4310000000],\n",
              "       [       2017,  4800000000],\n",
              "       [       2017,  4800000000],\n",
              "       [       2017,  4800000000],\n",
              "       [       2012,  5000000000],\n",
              "       [       2013,  5000000000],\n",
              "       [       2014,  5560000000],\n",
              "       [       2017,  6100000000],\n",
              "       [       2018,  6900000000],\n",
              "       [       2016,  4000000000],\n",
              "       [       2018,  6900000000],\n",
              "       [       2017,  5500000000],\n",
              "       [       2018,  5500000000],\n",
              "       [       2017,  7000000000],\n",
              "       [       2015,  7100000000],\n",
              "       [       2017,  8000000000],\n",
              "       [       2016,  7200000000],\n",
              "       [       2017,  8000000000],\n",
              "       [       2016,  8000000000],\n",
              "       [       2017,  9700000000],\n",
              "       [       2017,   250000000],\n",
              "       [       2015, 10000000000],\n",
              "       [       2017,  5450000000],\n",
              "       [       2018, 10000000000],\n",
              "       [       2017,  4300000000],\n",
              "       [       2017, 18000000000],\n",
              "       [       2017, 19200000000],\n",
              "       [       2018,  8876000000],\n",
              "       [       2018, 23600000000],\n",
              "       [       2018,  9000000000]])"
            ]
          },
          "metadata": {},
          "execution_count": 5
        }
      ]
    },
    {
      "cell_type": "code",
      "source": [
        "X = data[:, 0].reshape(-1,1)\n",
        "Y = data[:, 1].reshape(-1,1)"
      ],
      "metadata": {
        "id": "tkxhgKwkdlnP"
      },
      "execution_count": null,
      "outputs": []
    },
    {
      "cell_type": "code",
      "source": [
        "plt.scatter(X,Y);"
      ],
      "metadata": {
        "colab": {
          "base_uri": "https://localhost:8080/",
          "height": 276
        },
        "id": "PdKPDSUceTBZ",
        "outputId": "0e33391f-0125-4860-a057-e6964f357855"
      },
      "execution_count": null,
      "outputs": [
        {
          "output_type": "display_data",
          "data": {
            "text/plain": [
              "<Figure size 432x288 with 1 Axes>"
            ],
            "image/png": "[encoded data removed]"
          },
          "metadata": {
            "needs_background": "light"
          }
        }
      ]
    },
    {
      "cell_type": "code",
      "source": [
        "Y = np.log(Y)\n",
        "plt.scatter(X,Y);"
      ],
      "metadata": {
        "colab": {
          "base_uri": "https://localhost:8080/",
          "height": 265
        },
        "id": "HMpcOQCfez2h",
        "outputId": "10ae8d80-4202-4025-9d86-bde451f62474"
      },
      "execution_count": null,
      "outputs": [
        {
          "output_type": "display_data",
          "data": {
            "text/plain": [
              "<Figure size 432x288 with 1 Axes>"
            ],
            "image/png": "[encoded data removed]"
          },
          "metadata": {
            "needs_background": "light"
          }
        }
      ]
    },
    {
      "cell_type": "code",
      "source": [
        "# standardization\n",
        "mx = X.mean()\n",
        "sx = X.std()\n",
        "my = Y.mean()\n",
        "sy = Y.std()\n",
        "X = (X-mx)/sx\n",
        "Y = (Y-my)/sy"
      ],
      "metadata": {
        "id": "rBZGKo4YfRQq"
      },
      "execution_count": null,
      "outputs": []
    },
    {
      "cell_type": "code",
      "source": [
        "plt.scatter(X,Y);"
      ],
      "metadata": {
        "colab": {
          "base_uri": "https://localhost:8080/",
          "height": 265
        },
        "id": "Z-Gpro35gFqR",
        "outputId": "0e22e97c-fd79-419e-b4f0-9ed2fdd1d458"
      },
      "execution_count": null,
      "outputs": [
        {
          "output_type": "display_data",
          "data": {
            "text/plain": [
              "<Figure size 432x288 with 1 Axes>"
            ],
            "image/png": "[encoded data removed]"
          },
          "metadata": {
            "needs_background": "light"
          }
        }
      ]
    },
    {
      "cell_type": "code",
      "source": [
        "X = X.astype(np.float32)\n",
        "Y = Y.astype(np.float32)"
      ],
      "metadata": {
        "id": "WqC-RvKFgf__"
      },
      "execution_count": null,
      "outputs": []
    },
    {
      "cell_type": "code",
      "source": [
        "model = nn.Linear(1,1)"
      ],
      "metadata": {
        "id": "dgaCRx-cgmya"
      },
      "execution_count": null,
      "outputs": []
    },
    {
      "cell_type": "code",
      "source": [
        "criterion = nn.MSELoss()\n",
        "optimizer = torch.optim.SGD(model.parameters(), lr=0.01, momentum=0.7)"
      ],
      "metadata": {
        "id": "opq2ksdugtFB"
      },
      "execution_count": null,
      "outputs": []
    },
    {
      "cell_type": "code",
      "source": [
        "inputs = torch.from_numpy(X)\n",
        "targets = torch.from_numpy(Y)"
      ],
      "metadata": {
        "id": "fhXXVsnaheCQ"
      },
      "execution_count": null,
      "outputs": []
    },
    {
      "cell_type": "code",
      "source": [
        "# train\n",
        "n_epochs = 100\n",
        "losses = []\n",
        "for it in range(n_epochs):\n",
        "  optimizer.zero_grad()\n",
        "\n",
        "  outputs = model(inputs)\n",
        "  loss = criterion(outputs, targets)\n",
        "\n",
        "  losses.append(loss.item())\n",
        "\n",
        "  loss.backward()\n",
        "  optimizer.step()\n",
        "\n",
        "  print(f'Epoch {it+1}/{n_epochs}, Loss: {loss.item():4f}')"
      ],
      "metadata": {
        "colab": {
          "base_uri": "https://localhost:8080/"
        },
        "id": "zgX9_8Uzhuq6",
        "outputId": "a92bfb58-9119-4fef-bf9a-afe06fb0f6da"
      },
      "execution_count": null,
      "outputs": [
        {
          "output_type": "stream",
          "name": "stdout",
          "text": [
            "Epoch 1/100, Loss: 0.544478\n",
            "Epoch 2/100, Loss: 0.524440\n",
            "Epoch 3/100, Loss: 0.491688\n",
            "Epoch 4/100, Loss: 0.451945\n",
            "Epoch 5/100, Loss: 0.409381\n",
            "Epoch 6/100, Loss: 0.366853\n",
            "Epoch 7/100, Loss: 0.326198\n",
            "Epoch 8/100, Loss: 0.288493\n",
            "Epoch 9/100, Loss: 0.254284\n",
            "Epoch 10/100, Loss: 0.223750\n",
            "Epoch 11/100, Loss: 0.196836\n",
            "Epoch 12/100, Loss: 0.173344\n",
            "Epoch 13/100, Loss: 0.152996\n",
            "Epoch 14/100, Loss: 0.135480\n",
            "Epoch 15/100, Loss: 0.120477\n",
            "Epoch 16/100, Loss: 0.107679\n",
            "Epoch 17/100, Loss: 0.096797\n",
            "Epoch 18/100, Loss: 0.087570\n",
            "Epoch 19/100, Loss: 0.079763\n",
            "Epoch 20/100, Loss: 0.073170\n",
            "Epoch 21/100, Loss: 0.067611\n",
            "Epoch 22/100, Loss: 0.062929\n",
            "Epoch 23/100, Loss: 0.058990\n",
            "Epoch 24/100, Loss: 0.055679\n",
            "Epoch 25/100, Loss: 0.052898\n",
            "Epoch 26/100, Loss: 0.050563\n",
            "Epoch 27/100, Loss: 0.048604\n",
            "Epoch 28/100, Loss: 0.046961\n",
            "Epoch 29/100, Loss: 0.045584\n",
            "Epoch 30/100, Loss: 0.044429\n",
            "Epoch 31/100, Loss: 0.043462\n",
            "Epoch 32/100, Loss: 0.042652\n",
            "Epoch 33/100, Loss: 0.041973\n",
            "Epoch 34/100, Loss: 0.041404\n",
            "Epoch 35/100, Loss: 0.040928\n",
            "Epoch 36/100, Loss: 0.040529\n",
            "Epoch 37/100, Loss: 0.040195\n",
            "Epoch 38/100, Loss: 0.039916\n",
            "Epoch 39/100, Loss: 0.039682\n",
            "Epoch 40/100, Loss: 0.039486\n",
            "Epoch 41/100, Loss: 0.039322\n",
            "Epoch 42/100, Loss: 0.039185\n",
            "Epoch 43/100, Loss: 0.039070\n",
            "Epoch 44/100, Loss: 0.038974\n",
            "Epoch 45/100, Loss: 0.038893\n",
            "Epoch 46/100, Loss: 0.038826\n",
            "Epoch 47/100, Loss: 0.038770\n",
            "Epoch 48/100, Loss: 0.038722\n",
            "Epoch 49/100, Loss: 0.038683\n",
            "Epoch 50/100, Loss: 0.038650\n",
            "Epoch 51/100, Loss: 0.038622\n",
            "Epoch 52/100, Loss: 0.038599\n",
            "Epoch 53/100, Loss: 0.038580\n",
            "Epoch 54/100, Loss: 0.038564\n",
            "Epoch 55/100, Loss: 0.038550\n",
            "Epoch 56/100, Loss: 0.038539\n",
            "Epoch 57/100, Loss: 0.038529\n",
            "Epoch 58/100, Loss: 0.038521\n",
            "Epoch 59/100, Loss: 0.038514\n",
            "Epoch 60/100, Loss: 0.038509\n",
            "Epoch 61/100, Loss: 0.038504\n",
            "Epoch 62/100, Loss: 0.038500\n",
            "Epoch 63/100, Loss: 0.038497\n",
            "Epoch 64/100, Loss: 0.038494\n",
            "Epoch 65/100, Loss: 0.038492\n",
            "Epoch 66/100, Loss: 0.038490\n",
            "Epoch 67/100, Loss: 0.038488\n",
            "Epoch 68/100, Loss: 0.038487\n",
            "Epoch 69/100, Loss: 0.038486\n",
            "Epoch 70/100, Loss: 0.038485\n",
            "Epoch 71/100, Loss: 0.038484\n",
            "Epoch 72/100, Loss: 0.038484\n",
            "Epoch 73/100, Loss: 0.038483\n",
            "Epoch 74/100, Loss: 0.038483\n",
            "Epoch 75/100, Loss: 0.038482\n",
            "Epoch 76/100, Loss: 0.038482\n",
            "Epoch 77/100, Loss: 0.038482\n",
            "Epoch 78/100, Loss: 0.038481\n",
            "Epoch 79/100, Loss: 0.038481\n",
            "Epoch 80/100, Loss: 0.038481\n",
            "Epoch 81/100, Loss: 0.038481\n",
            "Epoch 82/100, Loss: 0.038481\n",
            "Epoch 83/100, Loss: 0.038481\n",
            "Epoch 84/100, Loss: 0.038481\n",
            "Epoch 85/100, Loss: 0.038481\n",
            "Epoch 86/100, Loss: 0.038481\n",
            "Epoch 87/100, Loss: 0.038481\n",
            "Epoch 88/100, Loss: 0.038480\n",
            "Epoch 89/100, Loss: 0.038480\n",
            "Epoch 90/100, Loss: 0.038480\n",
            "Epoch 91/100, Loss: 0.038480\n",
            "Epoch 92/100, Loss: 0.038480\n",
            "Epoch 93/100, Loss: 0.038480\n",
            "Epoch 94/100, Loss: 0.038480\n",
            "Epoch 95/100, Loss: 0.038480\n",
            "Epoch 96/100, Loss: 0.038480\n",
            "Epoch 97/100, Loss: 0.038480\n",
            "Epoch 98/100, Loss: 0.038480\n",
            "Epoch 99/100, Loss: 0.038480\n",
            "Epoch 100/100, Loss: 0.038480\n"
          ]
        }
      ]
    },
    {
      "cell_type": "code",
      "source": [
        "plt.plot(losses);"
      ],
      "metadata": {
        "colab": {
          "base_uri": "https://localhost:8080/",
          "height": 265
        },
        "id": "SfHQva9Ai5yi",
        "outputId": "8c3f672b-5441-42bc-92a6-8639663b7a64"
      },
      "execution_count": null,
      "outputs": [
        {
          "output_type": "display_data",
          "data": {
            "text/plain": [
              "<Figure size 432x288 with 1 Axes>"
            ],
            "image/png": "[encoded data removed]"
          },
          "metadata": {
            "needs_background": "light"
          }
        }
      ]
    },
    {
      "cell_type": "code",
      "source": [
        "predicted = model(inputs).detach().numpy()\n",
        "plt.plot(X,Y,'ro', label='Original data')\n",
        "plt.plot(X, predicted, label='Fitted line')\n",
        "plt.legend()\n",
        "plt.show()"
      ],
      "metadata": {
        "colab": {
          "base_uri": "https://localhost:8080/",
          "height": 265
        },
        "id": "M7mGO4kfjCJJ",
        "outputId": "5cfe263d-a4ac-431a-f6ee-e4cedc400dc2"
      },
      "execution_count": null,
      "outputs": [
        {
          "output_type": "display_data",
          "data": {
            "text/plain": [
              "<Figure size 432x288 with 1 Axes>"
            ],
            "image/png": "[encoded data removed]"
          },
          "metadata": {
            "needs_background": "light"
          }
        }
      ]
    },
    {
      "cell_type": "code",
      "source": [
        "w = model.weight.data.numpy()\n",
        "b = model.bias.data.numpy()\n",
        "print(w,b)"
      ],
      "metadata": {
        "colab": {
          "base_uri": "https://localhost:8080/"
        },
        "id": "3Sfu7Adijjxp",
        "outputId": "1789f625-f641-4813-b58e-eafa2ab86b09"
      },
      "execution_count": null,
      "outputs": [
        {
          "output_type": "stream",
          "name": "stdout",
          "text": [
            "[[0.9804337]] [2.1472513e-05]\n"
          ]
        }
      ]
    },
    {
      "cell_type": "markdown",
      "source": [
        "$C = C_0 r^t$"
      ],
      "metadata": {
        "id": "S1FUPjwSkN5k"
      }
    },
    {
      "cell_type": "markdown",
      "source": [
        "$\\log C = \\log C_0 + \\log r \\times t$"
      ],
      "metadata": {
        "id": "yin191EekUU0"
      }
    },
    {
      "cell_type": "markdown",
      "source": [
        "$y = mx + b$"
      ],
      "metadata": {
        "id": "p9fHjjiTk0cN"
      }
    },
    {
      "cell_type": "markdown",
      "source": [
        "where $x=t$, $m=\\log r$, $b=\\log C_0$  "
      ],
      "metadata": {
        "id": "IlUo5-X7lZUf"
      }
    },
    {
      "cell_type": "markdown",
      "source": [
        "$y' = \\frac{y-m_y}{s_y}$"
      ],
      "metadata": {
        "id": "H-uD1R0EmAFU"
      }
    },
    {
      "cell_type": "markdown",
      "source": [
        "$x' = \\frac{x-m_x}{s_x}$"
      ],
      "metadata": {
        "id": "RYyIhs6YmQlr"
      }
    },
    {
      "cell_type": "markdown",
      "source": [
        "$y' = wx'+b$"
      ],
      "metadata": {
        "id": "p-sdypZCmc-a"
      }
    },
    {
      "cell_type": "markdown",
      "source": [
        "$m=w \\frac{s_y}{s_x}$"
      ],
      "metadata": {
        "id": "Lwbz7nRGmj90"
      }
    },
    {
      "cell_type": "code",
      "source": [
        "m = w[0,0] * sy / sx\n",
        "print(m)"
      ],
      "metadata": {
        "colab": {
          "base_uri": "https://localhost:8080/"
        },
        "id": "cTbWoY9em_xm",
        "outputId": "8408451a-c0bd-4622-d9a2-fe469fff0d1f"
      },
      "execution_count": null,
      "outputs": [
        {
          "output_type": "stream",
          "name": "stdout",
          "text": [
            "0.34163460282735114\n"
          ]
        }
      ]
    },
    {
      "cell_type": "markdown",
      "source": [
        "$ t'-t= \\frac{\\log 2}{m}$"
      ],
      "metadata": {
        "id": "MAieWC5jnS47"
      }
    },
    {
      "cell_type": "code",
      "source": [
        "print('Time to double:', np.log(2)/m)"
      ],
      "metadata": {
        "colab": {
          "base_uri": "https://localhost:8080/"
        },
        "id": "nLW3BQsWnd2i",
        "outputId": "47a187b8-4cd3-44fc-dada-f92866ab8e5e"
      },
      "execution_count": null,
      "outputs": [
        {
          "output_type": "stream",
          "name": "stdout",
          "text": [
            "Time to double: 2.0289138594963547\n"
          ]
        }
      ]
    },
    {
      "cell_type": "markdown",
      "source": [
        "##レポート\n",
        "\n",
        "1.   ムーアの法則のデータ解析プロセスから、2年で２倍になるという結論がなぜ導けるのかについて説明しなさい。\n",
        "\n",
        "2.   標準化しなかった場合、その後のプログラムの結果はどうなっていくのかについて観察して、考察せよ。\n",
        "\n"
      ],
      "metadata": {
        "id": "kKU22dXroIZt"
      }
    },
    {
      "cell_type": "markdown",
      "source": [],
      "metadata": {
        "id": "idtME_VHpY7a"
      }
    }
  ]
}